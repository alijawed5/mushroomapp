{
 "cells": [
  {
   "cell_type": "code",
   "execution_count": 1,
   "metadata": {},
   "outputs": [],
   "source": [
    "import pandas as pd\n",
    "import numpy as np\n",
    "import seaborn as sns\n",
    "import matplotlib.pyplot as plt\n",
    "\n",
    "%matplotlib inline "
   ]
  },
  {
   "cell_type": "code",
   "execution_count": 2,
   "metadata": {},
   "outputs": [],
   "source": [
    "data = pd.read_csv('mushrooms.csv')"
   ]
  },
  {
   "cell_type": "code",
   "execution_count": 3,
   "metadata": {},
   "outputs": [
    {
     "data": {
      "text/html": [
       "<div>\n",
       "<style scoped>\n",
       "    .dataframe tbody tr th:only-of-type {\n",
       "        vertical-align: middle;\n",
       "    }\n",
       "\n",
       "    .dataframe tbody tr th {\n",
       "        vertical-align: top;\n",
       "    }\n",
       "\n",
       "    .dataframe thead th {\n",
       "        text-align: right;\n",
       "    }\n",
       "</style>\n",
       "<table border=\"1\" class=\"dataframe\">\n",
       "  <thead>\n",
       "    <tr style=\"text-align: right;\">\n",
       "      <th></th>\n",
       "      <th>class</th>\n",
       "      <th>cap-shape</th>\n",
       "      <th>cap-surface</th>\n",
       "      <th>cap-color</th>\n",
       "      <th>bruises</th>\n",
       "      <th>odor</th>\n",
       "      <th>gill-attachment</th>\n",
       "      <th>gill-spacing</th>\n",
       "      <th>gill-size</th>\n",
       "      <th>gill-color</th>\n",
       "      <th>...</th>\n",
       "      <th>stalk-surface-below-ring</th>\n",
       "      <th>stalk-color-above-ring</th>\n",
       "      <th>stalk-color-below-ring</th>\n",
       "      <th>veil-type</th>\n",
       "      <th>veil-color</th>\n",
       "      <th>ring-number</th>\n",
       "      <th>ring-type</th>\n",
       "      <th>spore-print-color</th>\n",
       "      <th>population</th>\n",
       "      <th>habitat</th>\n",
       "    </tr>\n",
       "  </thead>\n",
       "  <tbody>\n",
       "    <tr>\n",
       "      <th>0</th>\n",
       "      <td>p</td>\n",
       "      <td>x</td>\n",
       "      <td>s</td>\n",
       "      <td>n</td>\n",
       "      <td>t</td>\n",
       "      <td>p</td>\n",
       "      <td>f</td>\n",
       "      <td>c</td>\n",
       "      <td>n</td>\n",
       "      <td>k</td>\n",
       "      <td>...</td>\n",
       "      <td>s</td>\n",
       "      <td>w</td>\n",
       "      <td>w</td>\n",
       "      <td>p</td>\n",
       "      <td>w</td>\n",
       "      <td>o</td>\n",
       "      <td>p</td>\n",
       "      <td>k</td>\n",
       "      <td>s</td>\n",
       "      <td>u</td>\n",
       "    </tr>\n",
       "    <tr>\n",
       "      <th>1</th>\n",
       "      <td>e</td>\n",
       "      <td>x</td>\n",
       "      <td>s</td>\n",
       "      <td>y</td>\n",
       "      <td>t</td>\n",
       "      <td>a</td>\n",
       "      <td>f</td>\n",
       "      <td>c</td>\n",
       "      <td>b</td>\n",
       "      <td>k</td>\n",
       "      <td>...</td>\n",
       "      <td>s</td>\n",
       "      <td>w</td>\n",
       "      <td>w</td>\n",
       "      <td>p</td>\n",
       "      <td>w</td>\n",
       "      <td>o</td>\n",
       "      <td>p</td>\n",
       "      <td>n</td>\n",
       "      <td>n</td>\n",
       "      <td>g</td>\n",
       "    </tr>\n",
       "    <tr>\n",
       "      <th>2</th>\n",
       "      <td>e</td>\n",
       "      <td>b</td>\n",
       "      <td>s</td>\n",
       "      <td>w</td>\n",
       "      <td>t</td>\n",
       "      <td>l</td>\n",
       "      <td>f</td>\n",
       "      <td>c</td>\n",
       "      <td>b</td>\n",
       "      <td>n</td>\n",
       "      <td>...</td>\n",
       "      <td>s</td>\n",
       "      <td>w</td>\n",
       "      <td>w</td>\n",
       "      <td>p</td>\n",
       "      <td>w</td>\n",
       "      <td>o</td>\n",
       "      <td>p</td>\n",
       "      <td>n</td>\n",
       "      <td>n</td>\n",
       "      <td>m</td>\n",
       "    </tr>\n",
       "    <tr>\n",
       "      <th>3</th>\n",
       "      <td>p</td>\n",
       "      <td>x</td>\n",
       "      <td>y</td>\n",
       "      <td>w</td>\n",
       "      <td>t</td>\n",
       "      <td>p</td>\n",
       "      <td>f</td>\n",
       "      <td>c</td>\n",
       "      <td>n</td>\n",
       "      <td>n</td>\n",
       "      <td>...</td>\n",
       "      <td>s</td>\n",
       "      <td>w</td>\n",
       "      <td>w</td>\n",
       "      <td>p</td>\n",
       "      <td>w</td>\n",
       "      <td>o</td>\n",
       "      <td>p</td>\n",
       "      <td>k</td>\n",
       "      <td>s</td>\n",
       "      <td>u</td>\n",
       "    </tr>\n",
       "    <tr>\n",
       "      <th>4</th>\n",
       "      <td>e</td>\n",
       "      <td>x</td>\n",
       "      <td>s</td>\n",
       "      <td>g</td>\n",
       "      <td>f</td>\n",
       "      <td>n</td>\n",
       "      <td>f</td>\n",
       "      <td>w</td>\n",
       "      <td>b</td>\n",
       "      <td>k</td>\n",
       "      <td>...</td>\n",
       "      <td>s</td>\n",
       "      <td>w</td>\n",
       "      <td>w</td>\n",
       "      <td>p</td>\n",
       "      <td>w</td>\n",
       "      <td>o</td>\n",
       "      <td>e</td>\n",
       "      <td>n</td>\n",
       "      <td>a</td>\n",
       "      <td>g</td>\n",
       "    </tr>\n",
       "  </tbody>\n",
       "</table>\n",
       "<p>5 rows × 23 columns</p>\n",
       "</div>"
      ],
      "text/plain": [
       "  class cap-shape cap-surface cap-color bruises odor gill-attachment  \\\n",
       "0     p         x           s         n       t    p               f   \n",
       "1     e         x           s         y       t    a               f   \n",
       "2     e         b           s         w       t    l               f   \n",
       "3     p         x           y         w       t    p               f   \n",
       "4     e         x           s         g       f    n               f   \n",
       "\n",
       "  gill-spacing gill-size gill-color  ... stalk-surface-below-ring  \\\n",
       "0            c         n          k  ...                        s   \n",
       "1            c         b          k  ...                        s   \n",
       "2            c         b          n  ...                        s   \n",
       "3            c         n          n  ...                        s   \n",
       "4            w         b          k  ...                        s   \n",
       "\n",
       "  stalk-color-above-ring stalk-color-below-ring veil-type veil-color  \\\n",
       "0                      w                      w         p          w   \n",
       "1                      w                      w         p          w   \n",
       "2                      w                      w         p          w   \n",
       "3                      w                      w         p          w   \n",
       "4                      w                      w         p          w   \n",
       "\n",
       "  ring-number ring-type spore-print-color population habitat  \n",
       "0           o         p                 k          s       u  \n",
       "1           o         p                 n          n       g  \n",
       "2           o         p                 n          n       m  \n",
       "3           o         p                 k          s       u  \n",
       "4           o         e                 n          a       g  \n",
       "\n",
       "[5 rows x 23 columns]"
      ]
     },
     "execution_count": 3,
     "metadata": {},
     "output_type": "execute_result"
    }
   ],
   "source": [
    "data.head()"
   ]
  },
  {
   "cell_type": "code",
   "execution_count": 4,
   "metadata": {},
   "outputs": [
    {
     "name": "stdout",
     "output_type": "stream",
     "text": [
      "<class 'pandas.core.frame.DataFrame'>\n",
      "RangeIndex: 8124 entries, 0 to 8123\n",
      "Data columns (total 23 columns):\n",
      " #   Column                    Non-Null Count  Dtype \n",
      "---  ------                    --------------  ----- \n",
      " 0   class                     8124 non-null   object\n",
      " 1   cap-shape                 8124 non-null   object\n",
      " 2   cap-surface               8124 non-null   object\n",
      " 3   cap-color                 8124 non-null   object\n",
      " 4   bruises                   8124 non-null   object\n",
      " 5   odor                      8124 non-null   object\n",
      " 6   gill-attachment           8124 non-null   object\n",
      " 7   gill-spacing              8124 non-null   object\n",
      " 8   gill-size                 8124 non-null   object\n",
      " 9   gill-color                8124 non-null   object\n",
      " 10  stalk-shape               8124 non-null   object\n",
      " 11  stalk-root                8124 non-null   object\n",
      " 12  stalk-surface-above-ring  8124 non-null   object\n",
      " 13  stalk-surface-below-ring  8124 non-null   object\n",
      " 14  stalk-color-above-ring    8124 non-null   object\n",
      " 15  stalk-color-below-ring    8124 non-null   object\n",
      " 16  veil-type                 8124 non-null   object\n",
      " 17  veil-color                8124 non-null   object\n",
      " 18  ring-number               8124 non-null   object\n",
      " 19  ring-type                 8124 non-null   object\n",
      " 20  spore-print-color         8124 non-null   object\n",
      " 21  population                8124 non-null   object\n",
      " 22  habitat                   8124 non-null   object\n",
      "dtypes: object(23)\n",
      "memory usage: 1.4+ MB\n"
     ]
    }
   ],
   "source": [
    "data.info()"
   ]
  },
  {
   "cell_type": "code",
   "execution_count": 9,
   "metadata": {},
   "outputs": [
    {
     "data": {
      "text/plain": [
       "class                        2\n",
       "cap-shape                    6\n",
       "cap-surface                  4\n",
       "cap-color                   10\n",
       "bruises                      2\n",
       "odor                         9\n",
       "gill-attachment              2\n",
       "gill-spacing                 2\n",
       "gill-size                    2\n",
       "gill-color                  12\n",
       "stalk-shape                  2\n",
       "stalk-root                   5\n",
       "stalk-surface-above-ring     4\n",
       "stalk-surface-below-ring     4\n",
       "stalk-color-above-ring       9\n",
       "stalk-color-below-ring       9\n",
       "veil-type                    1\n",
       "veil-color                   4\n",
       "ring-number                  3\n",
       "ring-type                    5\n",
       "spore-print-color            9\n",
       "population                   6\n",
       "habitat                      7\n",
       "Name: unique, dtype: object"
      ]
     },
     "execution_count": 9,
     "metadata": {},
     "output_type": "execute_result"
    }
   ],
   "source": [
    "data.describe().iloc[1 , :]"
   ]
  },
  {
   "cell_type": "code",
   "execution_count": 10,
   "metadata": {},
   "outputs": [],
   "source": [
    "data.drop('veil-type',axis=1,inplace=True)"
   ]
  },
  {
   "cell_type": "code",
   "execution_count": 22,
   "metadata": {},
   "outputs": [],
   "source": [
    "def convert(col):\n",
    "    if col == 'e':\n",
    "        return 0\n",
    "    else:\n",
    "        return 1"
   ]
  },
  {
   "cell_type": "code",
   "execution_count": 11,
   "metadata": {},
   "outputs": [],
   "source": [
    "X = data.drop('class',axis=1)"
   ]
  },
  {
   "cell_type": "code",
   "execution_count": 23,
   "metadata": {},
   "outputs": [],
   "source": [
    "y = data['class'].apply(convert)"
   ]
  },
  {
   "cell_type": "code",
   "execution_count": 13,
   "metadata": {},
   "outputs": [],
   "source": [
    "from sklearn.model_selection import train_test_split"
   ]
  },
  {
   "cell_type": "code",
   "execution_count": 24,
   "metadata": {},
   "outputs": [],
   "source": [
    "X_train, X_test, y_train, y_test = train_test_split(X,y, test_size=0.30, random_state=101)"
   ]
  },
  {
   "cell_type": "code",
   "execution_count": 15,
   "metadata": {},
   "outputs": [],
   "source": [
    "import category_encoders as ce"
   ]
  },
  {
   "cell_type": "code",
   "execution_count": 25,
   "metadata": {},
   "outputs": [
    {
     "data": {
      "text/plain": [
       "Index(['cap-shape', 'cap-surface', 'cap-color', 'bruises', 'odor',\n",
       "       'gill-attachment', 'gill-spacing', 'gill-size', 'gill-color',\n",
       "       'stalk-shape', 'stalk-root', 'stalk-surface-above-ring',\n",
       "       'stalk-surface-below-ring', 'stalk-color-above-ring',\n",
       "       'stalk-color-below-ring', 'veil-color', 'ring-number', 'ring-type',\n",
       "       'spore-print-color', 'population', 'habitat'],\n",
       "      dtype='object')"
      ]
     },
     "execution_count": 25,
     "metadata": {},
     "output_type": "execute_result"
    }
   ],
   "source": [
    "X.columns"
   ]
  },
  {
   "cell_type": "code",
   "execution_count": 17,
   "metadata": {},
   "outputs": [],
   "source": [
    "cat_cols = ['cap-shape', 'cap-surface', 'cap-color', 'bruises', 'odor',\n",
    "       'gill-attachment', 'gill-spacing', 'gill-size', 'gill-color',\n",
    "       'stalk-shape', 'stalk-root', 'stalk-surface-above-ring',\n",
    "       'stalk-surface-below-ring', 'stalk-color-above-ring',\n",
    "       'stalk-color-below-ring', 'veil-color', 'ring-number', 'ring-type',\n",
    "       'spore-print-color', 'population', 'habitat']"
   ]
  },
  {
   "cell_type": "code",
   "execution_count": 58,
   "metadata": {},
   "outputs": [
    {
     "data": {
      "text/plain": [
       "21"
      ]
     },
     "execution_count": 58,
     "metadata": {},
     "output_type": "execute_result"
    }
   ],
   "source": [
    "len(cat_cols)"
   ]
  },
  {
   "cell_type": "code",
   "execution_count": 18,
   "metadata": {},
   "outputs": [],
   "source": [
    "cat_enc = ce.CatBoostEncoder(cols=cat_cols)\n"
   ]
  },
  {
   "cell_type": "code",
   "execution_count": 26,
   "metadata": {},
   "outputs": [
    {
     "data": {
      "text/plain": [
       "CatBoostEncoder(a=1,\n",
       "                cols=['cap-shape', 'cap-surface', 'cap-color', 'bruises',\n",
       "                      'odor', 'gill-attachment', 'gill-spacing', 'gill-size',\n",
       "                      'gill-color', 'stalk-shape', 'stalk-root',\n",
       "                      'stalk-surface-above-ring', 'stalk-surface-below-ring',\n",
       "                      'stalk-color-above-ring', 'stalk-color-below-ring',\n",
       "                      'veil-color', 'ring-number', 'ring-type',\n",
       "                      'spore-print-color', 'population', 'habitat'],\n",
       "                drop_invariant=False, handle_missing='value',\n",
       "                handle_unknown='value', random_state=None, return_df=True,\n",
       "                sigma=None, verbose=0)"
      ]
     },
     "execution_count": 26,
     "metadata": {},
     "output_type": "execute_result"
    }
   ],
   "source": [
    "cat_enc.fit(X_train, y_train)\n"
   ]
  },
  {
   "cell_type": "code",
   "execution_count": 27,
   "metadata": {},
   "outputs": [],
   "source": [
    "encX_train = X_train.join(cat_enc.transform(X_train).add_suffix('_cb'))\n",
    "encX_test = X_test.join(cat_enc.transform(X_test).add_suffix('_cb'))"
   ]
  },
  {
   "cell_type": "code",
   "execution_count": 28,
   "metadata": {},
   "outputs": [],
   "source": [
    "encX_train.drop(cat_cols,axis=1,inplace=True)\n",
    "encX_test.drop(cat_cols,axis=1,inplace=True)"
   ]
  },
  {
   "cell_type": "code",
   "execution_count": 30,
   "metadata": {},
   "outputs": [
    {
     "data": {
      "text/html": [
       "<div>\n",
       "<style scoped>\n",
       "    .dataframe tbody tr th:only-of-type {\n",
       "        vertical-align: middle;\n",
       "    }\n",
       "\n",
       "    .dataframe tbody tr th {\n",
       "        vertical-align: top;\n",
       "    }\n",
       "\n",
       "    .dataframe thead th {\n",
       "        text-align: right;\n",
       "    }\n",
       "</style>\n",
       "<table border=\"1\" class=\"dataframe\">\n",
       "  <thead>\n",
       "    <tr style=\"text-align: right;\">\n",
       "      <th></th>\n",
       "      <th>cap-shape_cb</th>\n",
       "      <th>cap-surface_cb</th>\n",
       "      <th>cap-color_cb</th>\n",
       "      <th>bruises_cb</th>\n",
       "      <th>odor_cb</th>\n",
       "      <th>gill-attachment_cb</th>\n",
       "      <th>gill-spacing_cb</th>\n",
       "      <th>gill-size_cb</th>\n",
       "      <th>gill-color_cb</th>\n",
       "      <th>stalk-shape_cb</th>\n",
       "      <th>...</th>\n",
       "      <th>stalk-surface-above-ring_cb</th>\n",
       "      <th>stalk-surface-below-ring_cb</th>\n",
       "      <th>stalk-color-above-ring_cb</th>\n",
       "      <th>stalk-color-below-ring_cb</th>\n",
       "      <th>veil-color_cb</th>\n",
       "      <th>ring-number_cb</th>\n",
       "      <th>ring-type_cb</th>\n",
       "      <th>spore-print-color_cb</th>\n",
       "      <th>population_cb</th>\n",
       "      <th>habitat_cb</th>\n",
       "    </tr>\n",
       "  </thead>\n",
       "  <tbody>\n",
       "    <tr>\n",
       "      <th>2173</th>\n",
       "      <td>0.473361</td>\n",
       "      <td>0.544576</td>\n",
       "      <td>0.435534</td>\n",
       "      <td>0.183234</td>\n",
       "      <td>0.032141</td>\n",
       "      <td>0.494141</td>\n",
       "      <td>0.563090</td>\n",
       "      <td>0.30135</td>\n",
       "      <td>0.112529</td>\n",
       "      <td>0.436782</td>\n",
       "      <td>...</td>\n",
       "      <td>0.298273</td>\n",
       "      <td>0.311611</td>\n",
       "      <td>0.001192</td>\n",
       "      <td>0.385905</td>\n",
       "      <td>0.494506</td>\n",
       "      <td>0.512497</td>\n",
       "      <td>0.209613</td>\n",
       "      <td>0.121579</td>\n",
       "      <td>0.705077</td>\n",
       "      <td>0.405989</td>\n",
       "    </tr>\n",
       "    <tr>\n",
       "      <th>1483</th>\n",
       "      <td>0.473361</td>\n",
       "      <td>0.548015</td>\n",
       "      <td>0.442577</td>\n",
       "      <td>0.693140</td>\n",
       "      <td>0.032141</td>\n",
       "      <td>0.494141</td>\n",
       "      <td>0.089024</td>\n",
       "      <td>0.30135</td>\n",
       "      <td>0.164254</td>\n",
       "      <td>0.436782</td>\n",
       "      <td>...</td>\n",
       "      <td>0.298273</td>\n",
       "      <td>0.311611</td>\n",
       "      <td>0.385778</td>\n",
       "      <td>0.385905</td>\n",
       "      <td>0.494506</td>\n",
       "      <td>0.512497</td>\n",
       "      <td>0.632816</td>\n",
       "      <td>0.121579</td>\n",
       "      <td>0.001779</td>\n",
       "      <td>0.343307</td>\n",
       "    </tr>\n",
       "    <tr>\n",
       "      <th>7994</th>\n",
       "      <td>0.473361</td>\n",
       "      <td>0.548015</td>\n",
       "      <td>0.442577</td>\n",
       "      <td>0.693140</td>\n",
       "      <td>0.032141</td>\n",
       "      <td>0.075971</td>\n",
       "      <td>0.563090</td>\n",
       "      <td>0.30135</td>\n",
       "      <td>0.273187</td>\n",
       "      <td>0.546619</td>\n",
       "      <td>...</td>\n",
       "      <td>0.298273</td>\n",
       "      <td>0.311611</td>\n",
       "      <td>0.003781</td>\n",
       "      <td>0.003781</td>\n",
       "      <td>0.007014</td>\n",
       "      <td>0.512497</td>\n",
       "      <td>0.209613</td>\n",
       "      <td>0.014235</td>\n",
       "      <td>0.153610</td>\n",
       "      <td>0.726244</td>\n",
       "    </tr>\n",
       "    <tr>\n",
       "      <th>3174</th>\n",
       "      <td>0.473361</td>\n",
       "      <td>0.327257</td>\n",
       "      <td>0.604840</td>\n",
       "      <td>0.693140</td>\n",
       "      <td>0.996583</td>\n",
       "      <td>0.494141</td>\n",
       "      <td>0.089024</td>\n",
       "      <td>0.88697</td>\n",
       "      <td>0.677112</td>\n",
       "      <td>0.546619</td>\n",
       "      <td>...</td>\n",
       "      <td>0.298273</td>\n",
       "      <td>0.311611</td>\n",
       "      <td>0.385778</td>\n",
       "      <td>0.385905</td>\n",
       "      <td>0.494506</td>\n",
       "      <td>0.512497</td>\n",
       "      <td>0.209613</td>\n",
       "      <td>0.121579</td>\n",
       "      <td>0.705077</td>\n",
       "      <td>0.405989</td>\n",
       "    </tr>\n",
       "    <tr>\n",
       "      <th>387</th>\n",
       "      <td>0.473361</td>\n",
       "      <td>0.548015</td>\n",
       "      <td>0.442577</td>\n",
       "      <td>0.693140</td>\n",
       "      <td>0.032141</td>\n",
       "      <td>0.494141</td>\n",
       "      <td>0.089024</td>\n",
       "      <td>0.30135</td>\n",
       "      <td>0.112529</td>\n",
       "      <td>0.436782</td>\n",
       "      <td>...</td>\n",
       "      <td>0.298273</td>\n",
       "      <td>0.311611</td>\n",
       "      <td>0.385778</td>\n",
       "      <td>0.385905</td>\n",
       "      <td>0.494506</td>\n",
       "      <td>0.512497</td>\n",
       "      <td>0.632816</td>\n",
       "      <td>0.121579</td>\n",
       "      <td>0.001779</td>\n",
       "      <td>0.343307</td>\n",
       "    </tr>\n",
       "  </tbody>\n",
       "</table>\n",
       "<p>5 rows × 21 columns</p>\n",
       "</div>"
      ],
      "text/plain": [
       "      cap-shape_cb  cap-surface_cb  cap-color_cb  bruises_cb   odor_cb  \\\n",
       "2173      0.473361        0.544576      0.435534    0.183234  0.032141   \n",
       "1483      0.473361        0.548015      0.442577    0.693140  0.032141   \n",
       "7994      0.473361        0.548015      0.442577    0.693140  0.032141   \n",
       "3174      0.473361        0.327257      0.604840    0.693140  0.996583   \n",
       "387       0.473361        0.548015      0.442577    0.693140  0.032141   \n",
       "\n",
       "      gill-attachment_cb  gill-spacing_cb  gill-size_cb  gill-color_cb  \\\n",
       "2173            0.494141         0.563090       0.30135       0.112529   \n",
       "1483            0.494141         0.089024       0.30135       0.164254   \n",
       "7994            0.075971         0.563090       0.30135       0.273187   \n",
       "3174            0.494141         0.089024       0.88697       0.677112   \n",
       "387             0.494141         0.089024       0.30135       0.112529   \n",
       "\n",
       "      stalk-shape_cb  ...  stalk-surface-above-ring_cb  \\\n",
       "2173        0.436782  ...                     0.298273   \n",
       "1483        0.436782  ...                     0.298273   \n",
       "7994        0.546619  ...                     0.298273   \n",
       "3174        0.546619  ...                     0.298273   \n",
       "387         0.436782  ...                     0.298273   \n",
       "\n",
       "      stalk-surface-below-ring_cb  stalk-color-above-ring_cb  \\\n",
       "2173                     0.311611                   0.001192   \n",
       "1483                     0.311611                   0.385778   \n",
       "7994                     0.311611                   0.003781   \n",
       "3174                     0.311611                   0.385778   \n",
       "387                      0.311611                   0.385778   \n",
       "\n",
       "      stalk-color-below-ring_cb  veil-color_cb  ring-number_cb  ring-type_cb  \\\n",
       "2173                   0.385905       0.494506        0.512497      0.209613   \n",
       "1483                   0.385905       0.494506        0.512497      0.632816   \n",
       "7994                   0.003781       0.007014        0.512497      0.209613   \n",
       "3174                   0.385905       0.494506        0.512497      0.209613   \n",
       "387                    0.385905       0.494506        0.512497      0.632816   \n",
       "\n",
       "      spore-print-color_cb  population_cb  habitat_cb  \n",
       "2173              0.121579       0.705077    0.405989  \n",
       "1483              0.121579       0.001779    0.343307  \n",
       "7994              0.014235       0.153610    0.726244  \n",
       "3174              0.121579       0.705077    0.405989  \n",
       "387               0.121579       0.001779    0.343307  \n",
       "\n",
       "[5 rows x 21 columns]"
      ]
     },
     "execution_count": 30,
     "metadata": {},
     "output_type": "execute_result"
    }
   ],
   "source": [
    "encX_train.head()"
   ]
  },
  {
   "cell_type": "code",
   "execution_count": null,
   "metadata": {},
   "outputs": [],
   "source": [
    "encX_train"
   ]
  },
  {
   "cell_type": "code",
   "execution_count": null,
   "metadata": {},
   "outputs": [],
   "source": []
  },
  {
   "cell_type": "code",
   "execution_count": null,
   "metadata": {},
   "outputs": [],
   "source": []
  },
  {
   "cell_type": "code",
   "execution_count": 49,
   "metadata": {},
   "outputs": [],
   "source": [
    "import xgboost as xgb"
   ]
  },
  {
   "cell_type": "code",
   "execution_count": 50,
   "metadata": {},
   "outputs": [
    {
     "data": {
      "text/plain": [
       "XGBClassifier(base_score=0.5, booster='gbtree', colsample_bylevel=1,\n",
       "              colsample_bynode=1, colsample_bytree=1, gamma=0,\n",
       "              learning_rate=0.05, max_delta_step=0, max_depth=300,\n",
       "              min_child_weight=1, missing=None, n_estimators=100, n_jobs=1,\n",
       "              nthread=None, objective='binary:logistic', random_state=0,\n",
       "              reg_alpha=0, reg_lambda=1, scale_pos_weight=1, seed=None,\n",
       "              silent=None, subsample=1, verbosity=1)"
      ]
     },
     "execution_count": 50,
     "metadata": {},
     "output_type": "execute_result"
    }
   ],
   "source": [
    "my_model = xgb.XGBClassifier(max_depth=300, learning_rate=0.05)\n",
    "my_model.fit(encX_train, y_train, \n",
    "             early_stopping_rounds=5, \n",
    "             eval_set=[(encX_test, y_test)], \n",
    "             verbose=False)"
   ]
  },
  {
   "cell_type": "code",
   "execution_count": 51,
   "metadata": {},
   "outputs": [],
   "source": [
    "pred = my_model.predict(encX_test)"
   ]
  },
  {
   "cell_type": "code",
   "execution_count": 52,
   "metadata": {},
   "outputs": [],
   "source": [
    "from sklearn.metrics import classification_report,confusion_matrix"
   ]
  },
  {
   "cell_type": "code",
   "execution_count": 53,
   "metadata": {},
   "outputs": [
    {
     "name": "stdout",
     "output_type": "stream",
     "text": [
      "[[1274    0]\n",
      " [   3 1161]]\n",
      "              precision    recall  f1-score   support\n",
      "\n",
      "           0       1.00      1.00      1.00      1274\n",
      "           1       1.00      1.00      1.00      1164\n",
      "\n",
      "    accuracy                           1.00      2438\n",
      "   macro avg       1.00      1.00      1.00      2438\n",
      "weighted avg       1.00      1.00      1.00      2438\n",
      "\n"
     ]
    }
   ],
   "source": [
    "print(confusion_matrix(y_test,pred))\n",
    "print(classification_report(y_test,pred))"
   ]
  },
  {
   "cell_type": "code",
   "execution_count": 57,
   "metadata": {},
   "outputs": [
    {
     "data": {
      "text/plain": [
       "array([0.        , 0.        , 0.        , 0.        , 0.9576341 ,\n",
       "       0.        , 0.        , 0.        , 0.        , 0.        ,\n",
       "       0.00602807, 0.        , 0.        , 0.        , 0.0072211 ,\n",
       "       0.        , 0.        , 0.        , 0.02911676, 0.        ,\n",
       "       0.        ], dtype=float32)"
      ]
     },
     "execution_count": 57,
     "metadata": {},
     "output_type": "execute_result"
    }
   ],
   "source": [
    "my_model.feature_importances_"
   ]
  },
  {
   "cell_type": "code",
   "execution_count": null,
   "metadata": {},
   "outputs": [],
   "source": []
  }
 ],
 "metadata": {
  "kernelspec": {
   "display_name": "Python 3",
   "language": "python",
   "name": "python3"
  },
  "language_info": {
   "codemirror_mode": {
    "name": "ipython",
    "version": 3
   },
   "file_extension": ".py",
   "mimetype": "text/x-python",
   "name": "python",
   "nbconvert_exporter": "python",
   "pygments_lexer": "ipython3",
   "version": "3.7.6"
  }
 },
 "nbformat": 4,
 "nbformat_minor": 4
}
